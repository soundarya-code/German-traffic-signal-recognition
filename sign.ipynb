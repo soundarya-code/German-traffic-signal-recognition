{
 "cells": [
  {
   "cell_type": "code",
   "execution_count": 1,
   "id": "37d44536",
   "metadata": {},
   "outputs": [],
   "source": [
    "import  cv2 as cv\n",
    "import os\n",
    "import uuid\n",
    "import time\n"
   ]
  },
  {
   "cell_type": "code",
   "execution_count": 3,
   "id": "fadcfbec",
   "metadata": {},
   "outputs": [],
   "source": [
    "Image_path=\"G:\\Tensorflow\\workspace\\images\\collectedimages\"\n",
    "no_imgs=15"
   ]
  },
  {
   "cell_type": "code",
   "execution_count": 4,
   "id": "657c82b9",
   "metadata": {},
   "outputs": [
    {
     "ename": "NameError",
     "evalue": "name 'cv2' is not defined",
     "output_type": "error",
     "traceback": [
      "\u001b[1;31m---------------------------------------------------------------------------\u001b[0m",
      "\u001b[1;31mNameError\u001b[0m                                 Traceback (most recent call last)",
      "\u001b[1;32mC:\\Users\\SOMASH~1\\AppData\\Local\\Temp/ipykernel_11544/3244136970.py\u001b[0m in \u001b[0;36m<module>\u001b[1;34m\u001b[0m\n\u001b[0;32m      2\u001b[0m \u001b[1;32mfor\u001b[0m \u001b[0mlabel\u001b[0m \u001b[1;32min\u001b[0m \u001b[0mlabels\u001b[0m\u001b[1;33m:\u001b[0m\u001b[1;33m\u001b[0m\u001b[1;33m\u001b[0m\u001b[0m\n\u001b[0;32m      3\u001b[0m     \u001b[0mget_ipython\u001b[0m\u001b[1;33m(\u001b[0m\u001b[1;33m)\u001b[0m\u001b[1;33m.\u001b[0m\u001b[0msystem\u001b[0m\u001b[1;33m(\u001b[0m\u001b[1;34m\"mkdir {'G:\\\\Tensorflow\\\\workspace\\\\images\\\\collectedimages'+label}\"\u001b[0m\u001b[1;33m)\u001b[0m\u001b[1;33m\u001b[0m\u001b[1;33m\u001b[0m\u001b[0m\n\u001b[1;32m----> 4\u001b[1;33m     \u001b[0mcap\u001b[0m\u001b[1;33m=\u001b[0m\u001b[0mcv2\u001b[0m\u001b[1;33m.\u001b[0m\u001b[0mVideoCapture\u001b[0m\u001b[1;33m(\u001b[0m\u001b[1;36m0\u001b[0m\u001b[1;33m)\u001b[0m\u001b[1;33m\u001b[0m\u001b[1;33m\u001b[0m\u001b[0m\n\u001b[0m\u001b[0;32m      5\u001b[0m     \u001b[0madress\u001b[0m\u001b[1;33m=\u001b[0m\u001b[1;34m\"http://192.168.29.165:8080/video\"\u001b[0m\u001b[1;33m\u001b[0m\u001b[1;33m\u001b[0m\u001b[0m\n\u001b[0;32m      6\u001b[0m     \u001b[0mcap\u001b[0m\u001b[1;33m.\u001b[0m\u001b[0mopen\u001b[0m\u001b[1;33m(\u001b[0m\u001b[0madress\u001b[0m\u001b[1;33m)\u001b[0m\u001b[1;33m\u001b[0m\u001b[1;33m\u001b[0m\u001b[0m\n",
      "\u001b[1;31mNameError\u001b[0m: name 'cv2' is not defined"
     ]
    }
   ],
   "source": [
    "labels={'hello','thanksyou','yes','no'}\n",
    "for label in labels:\n",
    "    !mkdir {'G:\\Tensorflow\\workspace\\images\\collectedimages'+label}\n",
    "    cap=cv.VideoCapture(0)\n",
    "    adress=\"http://192.168.29.165:8080/video\"\n",
    "    cap.open(adress)\n",
    "    print('collecting image for {}'.format(label))\n",
    "    time.sleep(5)\n",
    "    for i in range(no_imgs):\n",
    "        ret,frame=cap.read()\n",
    "        img_name=os.path.join(Image_path,label,label+'.'+\"{}.jpg\".format(str(uuid.uuid1())))\n",
    "        cv.imwrite(img_name,frame)\n",
    "        cv.imshow('frame',frame)\n",
    "        time.sleep(2)\n",
    "        if cv.waitkey(1)&0xFF==ord('q'):\n",
    "            break\n",
    "            "
   ]
  },
  {
   "cell_type": "code",
   "execution_count": null,
   "id": "9cf044d0",
   "metadata": {},
   "outputs": [],
   "source": []
  }
 ],
 "metadata": {
  "kernelspec": {
   "display_name": "Python 3 (ipykernel)",
   "language": "python",
   "name": "python3"
  },
  "language_info": {
   "codemirror_mode": {
    "name": "ipython",
    "version": 3
   },
   "file_extension": ".py",
   "mimetype": "text/x-python",
   "name": "python",
   "nbconvert_exporter": "python",
   "pygments_lexer": "ipython3",
   "version": "3.9.2"
  }
 },
 "nbformat": 4,
 "nbformat_minor": 5
}
